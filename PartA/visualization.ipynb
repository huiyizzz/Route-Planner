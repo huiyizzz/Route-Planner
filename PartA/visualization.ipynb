{
 "cells": [
  {
   "cell_type": "code",
   "execution_count": null,
   "metadata": {},
   "outputs": [],
   "source": [
    "import plotly.express as px\n",
    "import plotly.graph_objects as go\n",
    "import plotly.offline as py\n",
    "import pandas as pd\n",
    "import numpy as np\n",
    "import re\n",
    "import plotly.graph_objects as go\n",
    "import nltk\n",
    "import matplotlib.pyplot as plt\n",
    "from PIL import Image\n",
    "from wordcloud import WordCloud, get_single_color_func"
   ]
  },
  {
   "cell_type": "code",
   "execution_count": null,
   "metadata": {},
   "outputs": [],
   "source": [
    "# visualize recommended trip \n",
    "def Map(loc, title):\n",
    "    mean_lat=loc['lat'].mean()\n",
    "    mean_lon=loc['lon'].mean()\n",
    "    \n",
    "    token ='pk.eyJ1IjoiY2FyaW5hemhhbyIsImEiOiJja2ljYm1scWYwaDJuMndwM3lxaWZrd2VjIn0.ZwPLmscfNLPAF4VI6Uy4PA' \n",
    "    fig = go.Figure(go.Scattermapbox(\n",
    "        mode = \"markers+lines+text\",\n",
    "        lat = loc['lat'],\n",
    "        lon = loc['lon'],\n",
    "        hovertext=loc['name'],\n",
    "        text=loc['name'],\n",
    "        textfont=dict(size=13, color='red'),\n",
    "        marker = {'size': 12, \n",
    "                  'symbol': 'bus'},\n",
    "        textposition = \"bottom right\"))\n",
    "\n",
    "    fig.update_layout(\n",
    "        title=title,\n",
    "        # height=2300,\n",
    "        # width=2030,\n",
    "        height=700,\n",
    "        width=700,\n",
    "        mapbox = {\n",
    "            'accesstoken': token,\n",
    "            'center':{'lon':mean_lon,'lat':mean_lat},\n",
    "            'style': 'outdoors',\n",
    "            'zoom': 10})\n",
    "    fig.show()"
   ]
  },
  {
   "cell_type": "code",
   "execution_count": null,
   "metadata": {},
   "outputs": [],
   "source": [
    "# prepare for calculate word frequency \n",
    "def formate(word):\n",
    "    res=''\n",
    "    for item in word:\n",
    "        if res=='':\n",
    "            res=list(item.values())\n",
    "            res=res[0]\n",
    "        else:\n",
    "            t=list(item.values())\n",
    "            res.extend(t[0])\n",
    "            \n",
    "    return res"
   ]
  },
  {
   "cell_type": "code",
   "execution_count": null,
   "metadata": {},
   "outputs": [],
   "source": [
    "# reference from CMPT459 Assignmet1 \n",
    "# create wordcloud \n",
    "def wordcloud(nltk_count):\n",
    "    mask = np.array(Image.open('./Image/pic.jpg'))\n",
    "    wordcloud = WordCloud(background_color=\"white\",\n",
    "                         contour_width=3,mask=mask,\n",
    "                          contour_color='blue'\n",
    "                          ).generate_from_frequencies(nltk_count)\n",
    "    \n",
    "    plt.figure(figsize=(20, 17))\n",
    "    plt.imshow(wordcloud, interpolation=\"bilinear\")\n",
    "    plt.axis('off')"
   ]
  },
  {
   "cell_type": "code",
   "execution_count": null,
   "metadata": {},
   "outputs": [],
   "source": [
    "# prepare for wordcloud \n",
    "def pre_wordcloud(nlp_list):\n",
    "    all_words_unique_list = (nlp_list.explode()).unique()\n",
    "    word_list = list(nlp_list.explode())\n",
    "    nltk_count = nltk.FreqDist(word_list)\n",
    "    return nltk_count"
   ]
  },
  {
   "cell_type": "code",
   "execution_count": null,
   "metadata": {},
   "outputs": [],
   "source": [
    "def main():\n",
    "    \n",
    "    # read the recommended path\n",
    "    loc=pd.read_json('./Data/hot_locs.json',orient='record')\n",
    "    loc=loc.set_index('name')\n",
    "    file=open(\"./Data/route.txt\")\n",
    "    order= file.read().replace(\"\\n\",\"->\")\n",
    "    name=re.split(r'->',order)\n",
    "    \n",
    "    # sorted by the order of path (start from origin)\n",
    "    order=pd.DataFrame({'name':name[:-2],'order':range(0,len(name[:-2]))})\n",
    "    order=order.set_index('name')\n",
    "    loc['order']=order['order']\n",
    "    loc=loc.sort_values(by=['order'])\n",
    "    loc=loc.reset_index()\n",
    "    \n",
    "    # generate map \n",
    "    Map(loc,'Interesting Route in Vancouver')\n",
    "\n",
    "    # generate wordcloud \n",
    "      # top-5\n",
    "    loc['nlp_list']=loc['word_list'].apply(formate)\n",
    "    nltk_count=pre_wordcloud(loc['nlp_list'])\n",
    "    wordcloud(nltk_count)\n",
    "      # last-5 \n",
    "    low=pd.read_json('./Data/low.json',orient='record')\n",
    "    low['nlp_list']=low['word_list'].apply(formate)\n",
    "    nltk_count_low=pre_wordcloud(low['nlp_list'])\n",
    "    wordcloud(nltk_count_low)\n"
   ]
  },
  {
   "cell_type": "code",
   "execution_count": null,
   "metadata": {},
   "outputs": [],
   "source": [
    "if __name__ == '__main__':\n",
    "    main()"
   ]
  },
  {
   "cell_type": "code",
   "execution_count": null,
   "metadata": {},
   "outputs": [],
   "source": []
  }
 ],
 "metadata": {
  "kernelspec": {
   "display_name": "Python 3",
   "language": "python",
   "name": "python3"
  },
  "language_info": {
   "codemirror_mode": {
    "name": "ipython",
    "version": 3
   },
   "file_extension": ".py",
   "mimetype": "text/x-python",
   "name": "python",
   "nbconvert_exporter": "python",
   "pygments_lexer": "ipython3",
   "version": "3.8.3"
  }
 },
 "nbformat": 4,
 "nbformat_minor": 4
}
